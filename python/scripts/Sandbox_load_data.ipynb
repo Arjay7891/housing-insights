{
 "cells": [
  {
   "cell_type": "code",
   "execution_count": 18,
   "metadata": {
    "collapsed": false
   },
   "outputs": [
    {
     "name": "stdout",
     "output_type": "stream",
     "text": [
      "The autoreload extension is already loaded. To reload it, use:\n",
      "  %reload_ext autoreload\n"
     ]
    }
   ],
   "source": [
    "%load_ext autoreload\n",
    "%autoreload 2\n"
   ]
  },
  {
   "cell_type": "code",
   "execution_count": 36,
   "metadata": {
    "collapsed": false
   },
   "outputs": [
    {
     "name": "stdout",
     "output_type": "stream",
     "text": [
      "ACS cleaner loaded\n"
     ]
    }
   ],
   "source": [
    "import sys\n",
    "sys.path.append(\"../\")\n",
    "import housinginsights\n",
    "from housinginsights.ingestion import ManifestReader, DataReader\n",
    "from housinginsights.ingestion import ACSRentCleaner, GenericCleaner\n",
    "\n",
    "import json\n"
   ]
  },
  {
   "cell_type": "code",
   "execution_count": 37,
   "metadata": {
    "collapsed": true
   },
   "outputs": [],
   "source": [
    "#copied from scripts\n",
    "def load_meta_data(filename='meta.json'):\n",
    "    \"\"\"\n",
    "    Expected meta data format:\n",
    "        { tablename: {fields:[\n",
    "            {   \"display_name\": \"Preservation Catalog ID\",\n",
    "                \"display_text\": \"description of what this field is\",\n",
    "                \"source_name\": \"Nlihc_id\",\n",
    "                \"sql_name\": \"nlihc_id\",\n",
    "                \"type\": \"object\"\n",
    "            }\n",
    "            ]}\n",
    "        }\n",
    "    \"\"\"\n",
    "    with open(filename) as fh:\n",
    "        meta = json.load(fh)\n",
    "\n",
    "    json_is_valid = True\n",
    "    try:\n",
    "        for table in meta:\n",
    "            for field in meta[table]['fields']:\n",
    "                for key in field:\n",
    "                    if key not in ('display_name', 'display_text', 'source_name', 'sql_name', 'type'):\n",
    "                        json_is_valid = False\n",
    "                        first_json_error = \"Location: table: {}, section: {}, attribute: {}\".format(table, field, key)\n",
    "                        raise ValueError(\"Error found in JSON, check expected format. {}\".format(first_json_error))\n",
    "    except:\n",
    "        raise ValueError(\"Error found in JSON, check expected format.\")\n",
    "\n",
    "    return meta\n"
   ]
  },
  {
   "cell_type": "code",
   "execution_count": 38,
   "metadata": {
    "collapsed": false
   },
   "outputs": [],
   "source": [
    "meta = load_meta_data('meta_sample.json')\n",
    "manifest = ManifestReader('manifest_sample.csv')"
   ]
  },
  {
   "cell_type": "code",
   "execution_count": 43,
   "metadata": {
    "collapsed": false
   },
   "outputs": [
    {
     "name": "stdout",
     "output_type": "stream",
     "text": [
      "{'Geo2010': 'Tract 49.02', 'Proj_image_url': 'http://citizenatlas.dc.gov/mobilevideo/20040926/QQ112940.jpg', 'Proj_streetview_url': 'http://maps.google.com/maps?z=16&layer=c&cbll=38.90811789,-77.0221966&cbp=11,268.61496892357,,0,2.09', 'Proj_City': 'Washington', 'Bldg_count': '1', 'Hud_Mgr_Name': 'Edgewood Management Corporation', 'Subsidy_End_First': '3/1/2020', 'Proj_address_id': '238401', 'Ward2012': 'Ward 6', 'Cat_At_Risk': 'No', 'Hud_Own_Name': '1330 7th Street Limited Partnership', 'Update_Dtm': '01MAR16:15:34:26', 'Nlihc_id': 'NL000001', 'Cat_Lost': 'No', 'Proj_ST': 'DC', 'contract_number': 'DC39M000025', 'Zip': 'ZIP 20001', 'Cluster_tr2000_name': 'Shaw, Logan Circle', 'Category_Code': '5 - Other Subsidized Property', 'Psa2012': 'PSA 308', 'Proj_x': '398074.8', 'Proj_y': '137806.65', 'Proj_lat': '38.90811789', 'Subsidy_Start_First': '1/1/2004', 'Cat_Failing_Insp': 'No', 'Hud_Own_Effect_dt': '1/30/2004', 'Hud_Own_Type': 'Limited dividend', 'Proj_Addre': '1330 7th Street NW', 'Cat_Replaced': 'No', 'Cat_More_Info': 'No', 'Cat_Expiring': 'Yes', 'Status': 'Active', 'Subsidy_info_source_property': '4230', 'Proj_Units_Tot': '137', 'Cluster_tr2000': 'Cluster 7', 'Proj_Units_Assist_Max': '137', 'Proj_Zip': '20001', 'PBCA': 'Yes', 'Proj_Units_Assist_Min': '136', 'Anc2012': 'ANC 6E', 'Proj_Name': '1330 7th St Apts (Immaculate Conception)', 'Hud_Mgr_Type': 'Profit motivated', 'Subsidy_End_Last': '5/1/2045', 'Subsidized': 'Yes', 'Subsidy_Start_Last': '7/1/2005', 'Proj_lon': '-77.0221966'}\n",
      "{'Geo2010': 'Tract 49.02', 'Proj_image_url': 'http://citizenatlas.dc.gov/mobilevideo/20040926/QQ112940.jpg', 'Proj_streetview_url': 'http://maps.google.com/maps?z=16&layer=c&cbll=38.90811789,-77.0221966&cbp=11,268.61496892357,,0,2.09', 'Proj_City': 'Washington', 'Bldg_count': '1', 'Hud_Mgr_Name': 'Edgewood Management Corporation', 'Subsidy_End_First': '3/1/2020', 'Proj_address_id': '238401', 'Ward2012': 'Ward 6', 'Cat_At_Risk': 'No', 'Hud_Own_Name': '1330 7th Street Limited Partnership', 'Update_Dtm': '01MAR16:15:34:26', 'Nlihc_id': 'NL000001', 'Cat_Lost': 'No', 'Proj_ST': 'DC', 'contract_number': 'DC39M000025', 'Zip': 'ZIP 20001', 'Cluster_tr2000_name': 'Shaw, Logan Circle', 'Category_Code': '5 - Other Subsidized Property', 'Psa2012': 'PSA 308', 'Proj_x': '398074.8', 'Proj_y': '137806.65', 'Proj_lat': '38.90811789', 'Subsidy_Start_First': '1/1/2004', 'Cat_Failing_Insp': 'No', 'Hud_Own_Effect_dt': '1/30/2004', 'Hud_Own_Type': 'Limited dividend', 'Proj_Addre': '1330 7th Street NW', 'Cat_Replaced': 'No', 'Cat_More_Info': 'No', 'Cat_Expiring': 'Yes', 'Status': 'Active', 'Subsidy_info_source_property': '4230', 'Proj_Units_Tot': '137', 'Cluster_tr2000': 'Cluster 7', 'Proj_Units_Assist_Max': '137', 'Proj_Zip': '20001', 'PBCA': 'Yes', 'Proj_Units_Assist_Min': '136', 'Anc2012': 'ANC 6E', 'Proj_Name': '1330 7th St Apts (Immaculate Conception)', 'Hud_Mgr_Type': 'Profit motivated', 'Subsidy_End_Last': '5/1/2045', 'Subsidized': 'Yes', 'Subsidy_Start_Last': '7/1/2005', 'Proj_lon': '-77.0221966'}\n",
      "{'Geo2010': 'Tract 27.01', 'Proj_image_url': 'http://citizenatlas.dc.gov/mobilevideo/20040919/DJ080511.jpg', 'Proj_streetview_url': 'http://maps.google.com/maps?z=16&layer=c&cbll=38.93209086,-77.03705918&cbp=11,43.4024928305739,,0,2.09', 'Proj_City': 'Washington', 'Bldg_count': '1', 'Hud_Mgr_Name': '', 'Subsidy_End_First': '5/6/2020', 'Proj_address_id': '233583', 'Ward2012': 'Ward 1', 'Cat_At_Risk': 'No', 'Hud_Own_Name': 'Victory Housing', 'Update_Dtm': '03SEP15:17:34:41', 'Nlihc_id': 'NL000004', 'Cat_Lost': 'No', 'Proj_ST': 'DC', 'contract_number': '', 'Zip': 'ZIP 20010', 'Cluster_tr2000_name': 'Columbia Heights, Mt. Pleasant, Pleasant Plains, Park View', 'Category_Code': '5 - Other Subsidized Property', 'Psa2012': 'PSA 408', 'Proj_x': '396786.79', 'Proj_y': '140468.27', 'Proj_lat': '38.93209086', 'Subsidy_Start_First': '5/6/2005', 'Cat_Failing_Insp': 'No', 'Hud_Own_Effect_dt': '', 'Hud_Own_Type': '', 'Proj_Addre': '1611 Park Road NW', 'Cat_Replaced': 'No', 'Cat_More_Info': 'No', 'Cat_Expiring': 'Yes', 'Status': 'Active', 'Subsidy_info_source_property': '', 'Proj_Units_Tot': '31', 'Cluster_tr2000': 'Cluster 2', 'Proj_Units_Assist_Max': '25', 'Proj_Zip': '20010', 'PBCA': 'No', 'Proj_Units_Assist_Min': '25', 'Anc2012': 'ANC 1D', 'Proj_Name': 'Parkfair Apts', 'Hud_Mgr_Type': 'Individual', 'Subsidy_End_Last': '5/6/2020', 'Subsidized': 'Yes', 'Subsidy_Start_Last': '5/6/2005', 'Proj_lon': '-77.03705918'}\n",
      "{'Geo2010': 'Tract 27.01', 'Proj_image_url': 'http://citizenatlas.dc.gov/mobilevideo/20040919/DJ080511.jpg', 'Proj_streetview_url': 'http://maps.google.com/maps?z=16&layer=c&cbll=38.93209086,-77.03705918&cbp=11,43.4024928305739,,0,2.09', 'Proj_City': 'Washington', 'Bldg_count': '1', 'Hud_Mgr_Name': '', 'Subsidy_End_First': '5/6/2020', 'Proj_address_id': '233583', 'Ward2012': 'Ward 1', 'Cat_At_Risk': 'No', 'Hud_Own_Name': 'Victory Housing', 'Update_Dtm': '03SEP15:17:34:41', 'Nlihc_id': 'NL000004', 'Cat_Lost': 'No', 'Proj_ST': 'DC', 'contract_number': '', 'Zip': 'ZIP 20010', 'Cluster_tr2000_name': 'Columbia Heights, Mt. Pleasant, Pleasant Plains, Park View', 'Category_Code': '5 - Other Subsidized Property', 'Psa2012': 'PSA 408', 'Proj_x': '396786.79', 'Proj_y': '140468.27', 'Proj_lat': '38.93209086', 'Subsidy_Start_First': '5/6/2005', 'Cat_Failing_Insp': 'No', 'Hud_Own_Effect_dt': '', 'Hud_Own_Type': '', 'Proj_Addre': '1611 Park Road NW', 'Cat_Replaced': 'No', 'Cat_More_Info': 'No', 'Cat_Expiring': 'Yes', 'Status': 'Active', 'Subsidy_info_source_property': '', 'Proj_Units_Tot': '31', 'Cluster_tr2000': 'Cluster 2', 'Proj_Units_Assist_Max': '25', 'Proj_Zip': '20010', 'PBCA': 'No', 'Proj_Units_Assist_Min': '25', 'Anc2012': 'ANC 1D', 'Proj_Name': 'Parkfair Apts', 'Hud_Mgr_Type': 'Individual', 'Subsidy_End_Last': '5/6/2020', 'Subsidized': 'Yes', 'Subsidy_Start_Last': '5/6/2005', 'Proj_lon': '-77.03705918'}\n",
      "{'Geo2010': 'Tract 75.04', 'Proj_image_url': 'http://citizenatlas.dc.gov/mobilevideo/20040824/DO103928.jpg', 'Proj_streetview_url': 'http://maps.google.com/maps?z=16&layer=c&cbll=38.862912,-76.97960778&cbp=11,36.2251352869827,,0,2.09', 'Proj_City': 'Washington', 'Bldg_count': '1', 'Hud_Mgr_Name': '', 'Subsidy_End_First': '1/1/2034', 'Proj_address_id': '56983', 'Ward2012': 'Ward 8', 'Cat_At_Risk': 'No', 'Hud_Own_Name': 'Cih Bolling View, Lp', 'Update_Dtm': '03SEP15:17:34:41', 'Nlihc_id': 'NL000006', 'Cat_Lost': 'No', 'Proj_ST': 'DC', 'contract_number': '', 'Zip': 'ZIP 20020', 'Cluster_tr2000_name': 'Historic Anacostia', 'Category_Code': '5 - Other Subsidized Property', 'Psa2012': 'PSA 701', 'Proj_x': '401769.82', 'Proj_y': '132788.41', 'Proj_lat': '38.862912', 'Subsidy_Start_First': '1/1/2004', 'Cat_Failing_Insp': 'No', 'Hud_Own_Effect_dt': '', 'Hud_Own_Type': '', 'Proj_Addre': '1728 W Street SE', 'Cat_Replaced': 'No', 'Cat_More_Info': 'No', 'Cat_Expiring': 'Yes', 'Status': 'Active', 'Subsidy_info_source_property': '', 'Proj_Units_Tot': '15', 'Cluster_tr2000': 'Cluster 28', 'Proj_Units_Assist_Max': '15', 'Proj_Zip': '20020', 'PBCA': 'No', 'Proj_Units_Assist_Min': '15', 'Anc2012': 'ANC 8A', 'Proj_Name': '1728 W St SE', 'Hud_Mgr_Type': 'Individual', 'Subsidy_End_Last': '1/1/2034', 'Subsidized': 'Yes', 'Subsidy_Start_Last': '1/1/2004', 'Proj_lon': '-76.97960778'}\n",
      "{'Geo2010': 'Tract 75.04', 'Proj_image_url': 'http://citizenatlas.dc.gov/mobilevideo/20040824/DO103928.jpg', 'Proj_streetview_url': 'http://maps.google.com/maps?z=16&layer=c&cbll=38.862912,-76.97960778&cbp=11,36.2251352869827,,0,2.09', 'Proj_City': 'Washington', 'Bldg_count': '1', 'Hud_Mgr_Name': '', 'Subsidy_End_First': '1/1/2034', 'Proj_address_id': '56983', 'Ward2012': 'Ward 8', 'Cat_At_Risk': 'No', 'Hud_Own_Name': 'Cih Bolling View, Lp', 'Update_Dtm': '03SEP15:17:34:41', 'Nlihc_id': 'NL000006', 'Cat_Lost': 'No', 'Proj_ST': 'DC', 'contract_number': '', 'Zip': 'ZIP 20020', 'Cluster_tr2000_name': 'Historic Anacostia', 'Category_Code': '5 - Other Subsidized Property', 'Psa2012': 'PSA 701', 'Proj_x': '401769.82', 'Proj_y': '132788.41', 'Proj_lat': '38.862912', 'Subsidy_Start_First': '1/1/2004', 'Cat_Failing_Insp': 'No', 'Hud_Own_Effect_dt': '', 'Hud_Own_Type': '', 'Proj_Addre': '1728 W Street SE', 'Cat_Replaced': 'No', 'Cat_More_Info': 'No', 'Cat_Expiring': 'Yes', 'Status': 'Active', 'Subsidy_info_source_property': '', 'Proj_Units_Tot': '15', 'Cluster_tr2000': 'Cluster 28', 'Proj_Units_Assist_Max': '15', 'Proj_Zip': '20020', 'PBCA': 'No', 'Proj_Units_Assist_Min': '15', 'Anc2012': 'ANC 8A', 'Proj_Name': '1728 W St SE', 'Hud_Mgr_Type': 'Individual', 'Subsidy_End_Last': '1/1/2034', 'Subsidized': 'Yes', 'Subsidy_Start_Last': '1/1/2004', 'Proj_lon': '-76.97960778'}\n",
      "{'GEO.id': 'Id', 'HD01_VD01': 'Estimate; Median contract rent', 'GEO.id2': 'Id2', 'HD02_VD01': 'Margin of Error; Median contract rent', 'GEO.display-label': 'Geography'}\n",
      "{'GEO.id': 'Id', 'HD01_VD01': 'Estimate; Median contract rent', 'GEO.id2': 'Id2', 'HD02_VD01': 'Margin of Error; Median contract rent', 'GEO.display-label': 'Geography'}\n",
      "{'GEO.id': '1400000US11001000100', 'HD01_VD01': '1980', 'GEO.id2': '11001000100', 'HD02_VD01': '375', 'GEO.display-label': 'Census Tract 1, District of Columbia, District of Columbia'}\n",
      "{'GEO.id': '1400000US11001000100', 'HD01_VD01': '1980', 'GEO.id2': '11001000100', 'HD02_VD01': '375', 'GEO.display-label': 'Census Tract 1, District of Columbia, District of Columbia'}\n",
      "{'GEO.id': '1400000US11001000201', 'HD01_VD01': '-', 'GEO.id2': '11001000201', 'HD02_VD01': '**', 'GEO.display-label': 'Census Tract 2.01, District of Columbia, District of Columbia'}\n",
      "{'GEO.id': '1400000US11001000201', 'HD01_VD01': 'Null', 'GEO.id2': '11001000201', 'HD02_VD01': '**', 'GEO.display-label': 'Census Tract 2.01, District of Columbia, District of Columbia'}\n",
      "{'GEO.id': '1400000US11001001500', 'HD01_VD01': '3,500+', 'GEO.id2': '11001001500', 'HD02_VD01': '***', 'GEO.display-label': 'Census Tract 15, District of Columbia, District of Columbia'}\n",
      "{'GEO.id': '1400000US11001001500', 'HD01_VD01': '3500', 'GEO.id2': '11001001500', 'HD02_VD01': '***', 'GEO.display-label': 'Census Tract 15, District of Columbia, District of Columbia'}\n",
      "{'GEO.id': '1400000US11001002701', 'HD01_VD01': '1270', 'GEO.id2': '11001002701', 'HD02_VD01': '111', 'GEO.display-label': 'Census Tract 27.01, District of Columbia, District of Columbia'}\n",
      "{'GEO.id': '1400000US11001002701', 'HD01_VD01': '1270', 'GEO.id2': '11001002701', 'HD02_VD01': '111', 'GEO.display-label': 'Census Tract 27.01, District of Columbia, District of Columbia'}\n",
      "{'GEO.id': '1400000US11001004902', 'HD01_VD01': '1386', 'GEO.id2': '11001004902', 'HD02_VD01': '491', 'GEO.display-label': 'Census Tract 49.02, District of Columbia, District of Columbia'}\n",
      "{'GEO.id': '1400000US11001004902', 'HD01_VD01': '1386', 'GEO.id2': '11001004902', 'HD02_VD01': '491', 'GEO.display-label': 'Census Tract 49.02, District of Columbia, District of Columbia'}\n",
      "{'GEO.id': '1400000US11001007504', 'HD01_VD01': '778', 'GEO.id2': '11001007504', 'HD02_VD01': '56', 'GEO.display-label': 'Census Tract 75.04, District of Columbia, District of Columbia'}\n",
      "{'GEO.id': '1400000US11001007504', 'HD01_VD01': '778', 'GEO.id2': '11001007504', 'HD02_VD01': '56', 'GEO.display-label': 'Census Tract 75.04, District of Columbia, District of Columbia'}\n"
     ]
    }
   ],
   "source": [
    "for manifest_row in manifest:\n",
    "    csv_reader = DataReader(manifest_row=manifest_row)\n",
    "    \n",
    "    #Assign an appropriate testing cleaner\n",
    "    if manifest_row['destination_table'] == \"acs_rent_median\":\n",
    "        cleaner = ACSRentCleaner(meta, manifest_row)\n",
    "    else:\n",
    "        cleaner = GenericCleaner(meta,manifest_row)\n",
    "        \n",
    "    for data_row in csv_reader:\n",
    "        print(data_row)\n",
    "        clean_data_row = cleaner.clean(data_row)\n",
    "        print(clean_data_row)"
   ]
  },
  {
   "cell_type": "code",
   "execution_count": null,
   "metadata": {
    "collapsed": true
   },
   "outputs": [],
   "source": []
  }
 ],
 "metadata": {
  "anaconda-cloud": {},
  "kernelspec": {
   "display_name": "Python [default]",
   "language": "python",
   "name": "python3"
  },
  "language_info": {
   "codemirror_mode": {
    "name": "ipython",
    "version": 3
   },
   "file_extension": ".py",
   "mimetype": "text/x-python",
   "name": "python",
   "nbconvert_exporter": "python",
   "pygments_lexer": "ipython3",
   "version": "3.5.2"
  }
 },
 "nbformat": 4,
 "nbformat_minor": 1
}
